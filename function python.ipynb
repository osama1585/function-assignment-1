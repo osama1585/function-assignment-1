{
 "cells": [
  {
   "cell_type": "markdown",
   "id": "76cb551e-d50a-42a3-bb91-0b144bf35b13",
   "metadata": {},
   "source": [
    "Assignment"
   ]
  },
  {
   "cell_type": "markdown",
   "id": "ed49b4bf-34fe-4f48-aa98-90f422b1bfee",
   "metadata": {},
   "source": [
    "Q1. Which keyword is used to create a function? Create a function to return a list of odd numbers in the\n",
    "range of 1 to 25.Ans-"
   ]
  },
  {
   "cell_type": "markdown",
   "id": "e112a95c-510d-44ff-b642-70afb725798b",
   "metadata": {},
   "source": [
    "def keyword is used to create a function"
   ]
  },
  {
   "cell_type": "code",
   "execution_count": 43,
   "id": "38638224-fde1-4507-bc20-ef22e3e51af0",
   "metadata": {},
   "outputs": [],
   "source": [
    "def list_of_odd():\n",
    "    odd_num = []\n",
    "    for number in range(1,26):\n",
    "        if number %2!=0:\n",
    "            odd_num.append(number)\n",
    "    return odd_num\n",
    "    \n",
    "             "
   ]
  },
  {
   "cell_type": "code",
   "execution_count": 2,
   "id": "39046a12-bac6-4fd0-9cf8-ad2553930666",
   "metadata": {},
   "outputs": [],
   "source": [
    "list_of_odd_num = list_of_odd()"
   ]
  },
  {
   "cell_type": "code",
   "execution_count": 3,
   "id": "58ef8ed6-fae7-4b58-9027-ccdd2dc8b5de",
   "metadata": {},
   "outputs": [
    {
     "name": "stdout",
     "output_type": "stream",
     "text": [
      "[1, 3, 5, 7, 9, 11, 13, 15, 17, 19, 21, 23, 25]\n"
     ]
    }
   ],
   "source": [
    "print(list_of_odd_num)"
   ]
  },
  {
   "cell_type": "markdown",
   "id": "f9f489a3-dbc2-411f-a060-a857b7b310f0",
   "metadata": {},
   "source": [
    "Q2. Why *args and **kwargs is used in some functions? Create a function each for *args and **kwargs\n",
    "to demonstrate their use."
   ]
  },
  {
   "cell_type": "markdown",
   "id": "a686c6e7-9183-4a8e-9a37-3458f0c25db7",
   "metadata": {},
   "source": [
    "Ans-"
   ]
  },
  {
   "cell_type": "markdown",
   "id": "0ef7ff75-410d-41ce-9473-be07a5589e6e",
   "metadata": {},
   "source": [
    "args-"
   ]
  },
  {
   "cell_type": "code",
   "execution_count": 5,
   "id": "4a9af71e-925b-4178-a4a0-8bef03e74023",
   "metadata": {},
   "outputs": [],
   "source": [
    "def test1(*args, u):\n",
    "    return args, u"
   ]
  },
  {
   "cell_type": "code",
   "execution_count": 6,
   "id": "47d7c291-2780-4575-be29-45c1a271e094",
   "metadata": {},
   "outputs": [
    {
     "data": {
      "text/plain": [
       "((2752,), 'data science')"
      ]
     },
     "execution_count": 6,
     "metadata": {},
     "output_type": "execute_result"
    }
   ],
   "source": [
    "test1(2752 , u = \"data science\")"
   ]
  },
  {
   "cell_type": "markdown",
   "id": "505b4157-0659-4549-bed4-aa3c49c63228",
   "metadata": {},
   "source": [
    "kwargs-"
   ]
  },
  {
   "cell_type": "code",
   "execution_count": 7,
   "id": "db6877ac-7a5d-492c-b093-aca417b4267f",
   "metadata": {},
   "outputs": [],
   "source": [
    "def test2(**kwargs):\n",
    "    return kwargs"
   ]
  },
  {
   "cell_type": "code",
   "execution_count": 8,
   "id": "46ffbc52-b63c-4592-a72c-b9e9d58385ed",
   "metadata": {},
   "outputs": [
    {
     "data": {
      "text/plain": [
       "{'number': [9909090909], 'name': 'ossu', 'score': [99]}"
      ]
     },
     "execution_count": 8,
     "metadata": {},
     "output_type": "execute_result"
    }
   ],
   "source": [
    "test2(number=[9909090909],name=\"ossu\",score=[99])"
   ]
  },
  {
   "cell_type": "markdown",
   "id": "54008213-7322-4562-96b7-0bb5479998d6",
   "metadata": {},
   "source": [
    "Q3. What is an iterator in python? Name the method used to initialise the iterator object and the method\n",
    "used for iteration. Use these methods to print the first five elements of the given list [2, 4, 6, 8, 10, 12, 14,\n",
    "16, 18, 20]."
   ]
  },
  {
   "cell_type": "markdown",
   "id": "b99e0a8d-77eb-4a02-8085-6f2f0eed12e9",
   "metadata": {},
   "source": [
    "Ans-"
   ]
  },
  {
   "cell_type": "code",
   "execution_count": 11,
   "id": "36e6a8d5-b5c4-4b75-9373-8676596dba10",
   "metadata": {},
   "outputs": [],
   "source": [
    "given_list=[2,4,6,8,10,12,14,16,18,20]"
   ]
  },
  {
   "cell_type": "code",
   "execution_count": 12,
   "id": "416c5c5a-ef29-4046-82f1-3a2d3a9e2632",
   "metadata": {},
   "outputs": [
    {
     "name": "stdout",
     "output_type": "stream",
     "text": [
      "2\n",
      "4\n",
      "6\n",
      "8\n",
      "10\n"
     ]
    }
   ],
   "source": [
    "iterator = iter(given_list)\n",
    "for i in range(5):\n",
    "    elements =next(iterator)\n",
    "    print(elements)"
   ]
  },
  {
   "cell_type": "markdown",
   "id": "8694aeb8-f464-4486-8698-beb66a5e33dd",
   "metadata": {},
   "source": [
    "Q4. What is a generator function in python? Why yield keyword is used? Give an example of a generator\n",
    "function."
   ]
  },
  {
   "cell_type": "markdown",
   "id": "6c223ac7-d4f7-4434-836a-15b159f7933b",
   "metadata": {},
   "source": [
    "Ans-"
   ]
  },
  {
   "cell_type": "markdown",
   "id": "f03fc7ce-84f7-483b-9224-08f2ec6e3783",
   "metadata": {},
   "source": [
    "In Python, a generator function is a special type of function that uses the yield keyword to produce a series of values, one at a time, rather than returning all the values at once like a regular function."
   ]
  },
  {
   "cell_type": "code",
   "execution_count": 13,
   "id": "4563ed11-0b8c-4e7c-b78d-8bb2f9790932",
   "metadata": {},
   "outputs": [],
   "source": [
    "def generator():\n",
    "    for i in range(10):\n",
    "        yield i"
   ]
  },
  {
   "cell_type": "code",
   "execution_count": 14,
   "id": "63d4aee7-489f-4ff9-9c9f-a92fd5096a70",
   "metadata": {},
   "outputs": [],
   "source": [
    "my_gen = generator()"
   ]
  },
  {
   "cell_type": "code",
   "execution_count": 15,
   "id": "c0a4f786-8a94-428d-b8e7-ee666ee7859b",
   "metadata": {},
   "outputs": [
    {
     "name": "stdout",
     "output_type": "stream",
     "text": [
      "0\n"
     ]
    }
   ],
   "source": [
    "print(next(my_gen))"
   ]
  },
  {
   "cell_type": "code",
   "execution_count": 16,
   "id": "1ca83887-5ecc-41e5-8a78-be4390af4f66",
   "metadata": {},
   "outputs": [
    {
     "name": "stdout",
     "output_type": "stream",
     "text": [
      "1\n"
     ]
    }
   ],
   "source": [
    "print(next(my_gen))"
   ]
  },
  {
   "cell_type": "markdown",
   "id": "0319fc3d-30e1-4285-95ba-10a08a86d55e",
   "metadata": {},
   "source": [
    "Q5. Create a generator function for prime numbers less than 1000. Use the next() method to print the\n",
    "first 20 prime numbers."
   ]
  },
  {
   "cell_type": "markdown",
   "id": "e8c52a35-3981-45a4-8d29-1ee7dcc0f2df",
   "metadata": {},
   "source": [
    "Ans-"
   ]
  },
  {
   "cell_type": "code",
   "execution_count": 17,
   "id": "7b408eff-f6c7-470f-832a-9d9c76830fde",
   "metadata": {},
   "outputs": [
    {
     "name": "stdout",
     "output_type": "stream",
     "text": [
      "2\n",
      "3\n",
      "5\n",
      "7\n",
      "11\n",
      "13\n",
      "17\n",
      "19\n",
      "23\n",
      "29\n",
      "31\n",
      "37\n",
      "41\n",
      "43\n",
      "47\n",
      "53\n",
      "59\n",
      "61\n",
      "67\n",
      "71\n"
     ]
    }
   ],
   "source": [
    "def is_prime(num):\n",
    "    if num <= 1:\n",
    "        return False\n",
    "    elif num == 2:\n",
    "        return True\n",
    "    elif num % 2 == 0:\n",
    "        return False\n",
    "\n",
    "    for i in range(3, int(num**0.5) + 1, 2):\n",
    "        if num % i == 0:\n",
    "            return False\n",
    "    return True\n",
    "\n",
    "def prime_generator(limit):\n",
    "    current = 2\n",
    "    count = 0\n",
    "\n",
    "    while count < limit:\n",
    "        if is_prime(current):\n",
    "            yield current\n",
    "            count += 1\n",
    "        current += 1\n",
    "\n",
    "# Using the generator function\n",
    "limit = 20\n",
    "generator = prime_generator(limit)\n",
    "\n",
    "for _ in range(limit):\n",
    "    prime_number = next(generator)\n",
    "    print(prime_number)\n"
   ]
  },
  {
   "cell_type": "markdown",
   "id": "61f68670-55c6-4c16-8539-8501aaae6497",
   "metadata": {},
   "source": [
    "Q6. Write a python program to print the first 10 Fibonacci numbers using a while loop."
   ]
  },
  {
   "cell_type": "markdown",
   "id": "ed000065-b0f3-486a-82c3-c6ae7e56ef4e",
   "metadata": {},
   "source": [
    "Ans-"
   ]
  },
  {
   "cell_type": "code",
   "execution_count": 25,
   "id": "859aa875-9b0e-40d5-9594-42d9008ba2af",
   "metadata": {},
   "outputs": [
    {
     "name": "stdout",
     "output_type": "stream",
     "text": [
      "0\n",
      "1\n",
      "1\n",
      "2\n",
      "3\n",
      "5\n",
      "8\n",
      "13\n",
      "21\n",
      "34\n"
     ]
    }
   ],
   "source": [
    "a=0\n",
    "b=1\n",
    "c = a+b\n",
    "print(a)\n",
    "print(b)\n",
    "while c <= 34:\n",
    "    \n",
    "    print(c )\n",
    "    a=b\n",
    "    b=c\n",
    "    c=a+b\n"
   ]
  },
  {
   "cell_type": "markdown",
   "id": "6fe8d34e-0176-4402-86ec-0a3e233f2e9a",
   "metadata": {},
   "source": [
    "Q7. Write a List Comprehension to iterate through the given string: ‘pwskills’.\n",
    "\n",
    "Expected output: ['p', 'w', 's', 'k', 'i', 'l', 'l', 's'] "
   ]
  },
  {
   "cell_type": "markdown",
   "id": "ffc36405-fc07-4c74-bdac-5389edf68141",
   "metadata": {},
   "source": [
    "Ans-"
   ]
  },
  {
   "cell_type": "code",
   "execution_count": 33,
   "id": "5a976672-8fee-4a62-b131-92f14d2c013e",
   "metadata": {},
   "outputs": [
    {
     "name": "stdout",
     "output_type": "stream",
     "text": [
      "['p', 'w', 's', 'k', 'i', 'l', 'l', 's']\n"
     ]
    }
   ],
   "source": [
    "string = \"pwskills\"\n",
    "list_pw =list(string)\n",
    "print(list_pw)"
   ]
  },
  {
   "cell_type": "markdown",
   "id": "340efe24-0516-4095-bc0f-195bf1fe4b52",
   "metadata": {},
   "source": [
    "Q8. Write a python program to check whether a given number is Palindrome or not using a while loop."
   ]
  },
  {
   "cell_type": "markdown",
   "id": "a0bddf32-0e8a-4dd8-bd3a-5ad8966c04d5",
   "metadata": {},
   "source": [
    "Ans-"
   ]
  },
  {
   "cell_type": "code",
   "execution_count": 35,
   "id": "98abdd97-672f-4abc-8215-f37c483a9454",
   "metadata": {},
   "outputs": [
    {
     "name": "stdin",
     "output_type": "stream",
     "text": [
      "Enter a number:  790097\n"
     ]
    },
    {
     "name": "stdout",
     "output_type": "stream",
     "text": [
      "790097 is a palindrome.\n"
     ]
    }
   ],
   "source": [
    "def is_palindrome(number):\n",
    "    original_number = number\n",
    "    reverse = 0\n",
    "\n",
    "    while number > 0:\n",
    "        digit = number % 10\n",
    "        reverse = reverse * 10 + digit\n",
    "        number = number // 10\n",
    "\n",
    "    return original_number == reverse\n",
    "\n",
    "\n",
    "# Test the function\n",
    "num = int(input(\"Enter a number: \"))\n",
    "\n",
    "if is_palindrome(num):\n",
    "    print(num, \"is a palindrome.\")\n",
    "else:\n",
    "    print(num, \"is not a palindrome.\")\n"
   ]
  },
  {
   "cell_type": "markdown",
   "id": "456c6949-8bbf-4271-8971-f1cebc4de28d",
   "metadata": {},
   "source": [
    "9. Write a code to print odd numbers from 1 to 100 using list comprehension.\n",
    "\n"
   ]
  },
  {
   "cell_type": "markdown",
   "id": "23af76ba-8453-43a3-9273-8f609f992d37",
   "metadata": {},
   "source": [
    "Ans-"
   ]
  },
  {
   "cell_type": "code",
   "execution_count": 41,
   "id": "b452f8ec-43f8-4a25-b6f8-159bdd125399",
   "metadata": {},
   "outputs": [
    {
     "name": "stdout",
     "output_type": "stream",
     "text": [
      "[1, 3, 5, 7, 9, 11, 13, 15, 17, 19, 21, 23, 25, 27, 29, 31, 33, 35, 37, 39, 41, 43, 45, 47, 49, 51, 53, 55, 57, 59, 61, 63, 65, 67, 69, 71, 73, 75, 77, 79, 81, 83, 85, 87, 89, 91, 93, 95, 97, 99]\n"
     ]
    }
   ],
   "source": [
    "odd_num=[num for num in range(1,101) if num % 2!=0]\n",
    "print(odd_num)"
   ]
  },
  {
   "cell_type": "code",
   "execution_count": null,
   "id": "78fc5a89-8688-477e-b912-d34e825b0a10",
   "metadata": {},
   "outputs": [],
   "source": []
  },
  {
   "cell_type": "code",
   "execution_count": null,
   "id": "594c9c27-ef6a-4eca-b288-500306a57069",
   "metadata": {},
   "outputs": [],
   "source": []
  }
 ],
 "metadata": {
  "kernelspec": {
   "display_name": "Python 3 (ipykernel)",
   "language": "python",
   "name": "python3"
  },
  "language_info": {
   "codemirror_mode": {
    "name": "ipython",
    "version": 3
   },
   "file_extension": ".py",
   "mimetype": "text/x-python",
   "name": "python",
   "nbconvert_exporter": "python",
   "pygments_lexer": "ipython3",
   "version": "3.10.8"
  }
 },
 "nbformat": 4,
 "nbformat_minor": 5
}
